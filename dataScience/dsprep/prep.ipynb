{
 "cells": [
  {
   "cell_type": "code",
   "execution_count": 5,
   "metadata": {},
   "outputs": [
    {
     "name": "stdout",
     "output_type": "stream",
     "text": [
      "   employee_id        designation  no_of_trainings  length_of_service  \\\n",
      "0        65438  Sales & Marketing                1                  8   \n",
      "1        65141         Operations                1                  4   \n",
      "2         7513  Sales & Marketing                1                  7   \n",
      "3         2542  Sales & Marketing                2                 10   \n",
      "4        48945         Technology                1                  2   \n",
      "\n",
      "   avg_training_score  is_promoted  \n",
      "0                49.0            0  \n",
      "1                60.0            0  \n",
      "2                50.0            0  \n",
      "3                50.0            0  \n",
      "4                73.0            0  \n"
     ]
    }
   ],
   "source": [
    "import pandas as pd\n",
    "import numpy as np\n",
    "\n",
    "# Load the CSV file into a DataFrame\n",
    "df = pd.read_csv('../../dataScience/employee_promotion.csv')\n",
    "\n",
    "# Drop the unwanted columns\n",
    "columns_to_drop = ['region', 'education', 'gender', 'recruitment_channel', \n",
    "                   'age', 'previous_year_rating', 'awards_won']\n",
    "df = df.drop(columns=columns_to_drop)\n",
    "\n",
    "df.rename(columns={'department': 'designation'}, inplace=True)\n",
    "\n",
    "# Generate random feedback values based on 'is_promoted'\n",
    "np.random.seed(42)  # Set seed for reproducibility\n",
    "\n",
    "# Save the modified DataFrame to a new CSV file\n",
    "df.to_csv('modified_employee_data.csv', index=False)\n",
    "\n",
    "# Display the first few rows of the modified DataFrame\n",
    "print(df.head())\n"
   ]
  }
 ],
 "metadata": {
  "kernelspec": {
   "display_name": "base",
   "language": "python",
   "name": "python3"
  },
  "language_info": {
   "codemirror_mode": {
    "name": "ipython",
    "version": 3
   },
   "file_extension": ".py",
   "mimetype": "text/x-python",
   "name": "python",
   "nbconvert_exporter": "python",
   "pygments_lexer": "ipython3",
   "version": "3.12.4"
  }
 },
 "nbformat": 4,
 "nbformat_minor": 2
}
