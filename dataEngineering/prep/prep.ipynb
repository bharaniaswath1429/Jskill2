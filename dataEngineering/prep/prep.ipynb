{
 "cells": [
  {
   "cell_type": "code",
   "execution_count": 1,
   "metadata": {},
   "outputs": [],
   "source": [
    "# import pandas as pd"
   ]
  },
  {
   "cell_type": "code",
   "execution_count": 7,
   "metadata": {},
   "outputs": [],
   "source": [
    "\n",
    "# def preparingData():\n",
    "#     users_df = pd.read_csv('../raw/RAW_Users.csv')\n",
    "#     courses_df = pd.read_csv('../raw/RAW_Courses.csv')\n",
    "#     feedbacks_df = pd.read_csv('../raw/RAW_Feedbacks.csv')\n",
    "#     training_performance_df = pd.read_csv('../raw/RAW_TrainingPerformances.csv')\n",
    "\n",
    "#     # Cleaning data (example)\n",
    "#     users_df.drop(columns=['createdAt', 'updatedAt'], inplace=True)\n",
    "#     feedbacks_df.drop(columns=['createdAt', 'updatedAt'], inplace=True)\n",
    "#     courses_df.drop(columns=['createdAt', 'updatedAt'], inplace=True)\n",
    "    \n",
    "#     courses_df['startCourseDate'] = pd.to_datetime(courses_df['startCourseDate'])\n",
    "#     courses_df['courseExpireDate'] = pd.to_datetime(courses_df['courseExpireDate'])\n",
    "\n",
    "#     #Filling NaNs in reportingManager with 'None'\n",
    "#     users_df['reportingManager'].fillna('None', inplace=True)\n",
    "\n",
    "#     # Save prepped data\n",
    "#     users_df.to_csv('PREP_Users.csv', index=False)\n",
    "#     courses_df.to_csv('PREP_Courses.csv', index=False)\n",
    "#     feedbacks_df.to_csv('PREP_Feedbacks.csv', index=False)\n",
    "#     training_performance_df.to_csv('PREP_TrainingPerformances.csv', index=False)\n",
    "\n",
    "# preparingData()\n"
   ]
  },
  {
   "cell_type": "code",
   "execution_count": 8,
   "metadata": {},
   "outputs": [
    {
     "name": "stdout",
     "output_type": "stream",
     "text": [
      "Collecting watchdog\n",
      "  Obtaining dependency information for watchdog from https://files.pythonhosted.org/packages/8f/b3/5e10ec32f0c429cdb55b1369066d6e83faf9985b3a53a4e37bb5c5e29aa0/watchdog-5.0.3-cp312-cp312-macosx_11_0_arm64.whl.metadata\n",
      "  Downloading watchdog-5.0.3-cp312-cp312-macosx_11_0_arm64.whl.metadata (41 kB)\n",
      "\u001b[2K     \u001b[90m━━━━━━━━━━━━━━━━━━━━━━━━━━━━━━━━━━━━━━━━\u001b[0m \u001b[32m41.9/41.9 kB\u001b[0m \u001b[31m2.8 MB/s\u001b[0m eta \u001b[36m0:00:00\u001b[0m\n",
      "\u001b[?25hDownloading watchdog-5.0.3-cp312-cp312-macosx_11_0_arm64.whl (89 kB)\n",
      "\u001b[2K   \u001b[90m━━━━━━━━━━━━━━━━━━━━━━━━━━━━━━━━━━━━━━━━\u001b[0m \u001b[32m89.3/89.3 kB\u001b[0m \u001b[31m8.3 MB/s\u001b[0m eta \u001b[36m0:00:00\u001b[0m\n",
      "\u001b[?25hInstalling collected packages: watchdog\n",
      "Successfully installed watchdog-5.0.3\n",
      "\n",
      "\u001b[1m[\u001b[0m\u001b[34;49mnotice\u001b[0m\u001b[1;39;49m]\u001b[0m\u001b[39;49m A new release of pip is available: \u001b[0m\u001b[31;49m23.2.1\u001b[0m\u001b[39;49m -> \u001b[0m\u001b[32;49m24.2\u001b[0m\n",
      "\u001b[1m[\u001b[0m\u001b[34;49mnotice\u001b[0m\u001b[1;39;49m]\u001b[0m\u001b[39;49m To update, run: \u001b[0m\u001b[32;49mpip3 install --upgrade pip\u001b[0m\n",
      "Note: you may need to restart the kernel to use updated packages.\n"
     ]
    }
   ],
   "source": [
    "%pip install watchdog"
   ]
  },
  {
   "cell_type": "code",
   "execution_count": 9,
   "metadata": {},
   "outputs": [
    {
     "name": "stdout",
     "output_type": "stream",
     "text": [
      "Monitoring folder for changes...\n",
      "/Users/aswath/Desktop/Jskill2-main/dataEngineering/raw/RAW_TrainingPerformances.csv has been modified. Preparing data...\n"
     ]
    },
    {
     "name": "stderr",
     "output_type": "stream",
     "text": [
      "/var/folders/vl/_n6dyrzx4c5cdgbwmdsqbb3m0000gn/T/ipykernel_36044/2678346063.py:29: FutureWarning: A value is trying to be set on a copy of a DataFrame or Series through chained assignment using an inplace method.\n",
      "The behavior will change in pandas 3.0. This inplace method will never work because the intermediate object on which we are setting values always behaves as a copy.\n",
      "\n",
      "For example, when doing 'df[col].method(value, inplace=True)', try using 'df.method({col: value}, inplace=True)' or df[col] = df[col].method(value) instead, to perform the operation inplace on the original object.\n",
      "\n",
      "\n",
      "  users_df['reportingManager'].fillna('None', inplace=True)\n"
     ]
    }
   ],
   "source": [
    "import pandas as pd\n",
    "from watchdog.observers import Observer\n",
    "from watchdog.events import FileSystemEventHandler\n",
    "import time\n",
    "import os\n",
    "\n",
    "class CSVHandler(FileSystemEventHandler):\n",
    "    def on_modified(self, event):\n",
    "        # Check if the modified file is one of the raw CSV files\n",
    "        if event.src_path.endswith('.csv'):\n",
    "            print(f'{event.src_path} has been modified. Preparing data...')\n",
    "            preparingData()\n",
    "\n",
    "def preparingData():\n",
    "    users_df = pd.read_csv('../raw/RAW_Users.csv')\n",
    "    courses_df = pd.read_csv('../raw/RAW_Courses.csv')\n",
    "    feedbacks_df = pd.read_csv('../raw/RAW_Feedbacks.csv')\n",
    "    training_performance_df = pd.read_csv('../raw/RAW_TrainingPerformances.csv')\n",
    "\n",
    "    # Cleaning data (example)\n",
    "    users_df.drop(columns=['createdAt', 'updatedAt'], inplace=True)\n",
    "    feedbacks_df.drop(columns=['createdAt', 'updatedAt'], inplace=True)\n",
    "    courses_df.drop(columns=['createdAt', 'updatedAt'], inplace=True)\n",
    "    \n",
    "    courses_df['startCourseDate'] = pd.to_datetime(courses_df['startCourseDate'])\n",
    "    courses_df['courseExpireDate'] = pd.to_datetime(courses_df['courseExpireDate'])\n",
    "\n",
    "    # Filling NaNs in reportingManager with 'None'\n",
    "    users_df['reportingManager'].fillna('None', inplace=True)\n",
    "\n",
    "    # Save prepped data\n",
    "    users_df.to_csv('PREP_Users.csv', index=False)\n",
    "    courses_df.to_csv('PREP_Courses.csv', index=False)\n",
    "    feedbacks_df.to_csv('PREP_Feedbacks.csv', index=False)\n",
    "    training_performance_df.to_csv('PREP_TrainingPerformances.csv', index=False)\n",
    "\n",
    "if __name__ == \"__main__\":\n",
    "    path = '../raw'  # Path to the folder you want to monitor\n",
    "    event_handler = CSVHandler()\n",
    "    observer = Observer()\n",
    "    observer.schedule(event_handler, path, recursive=False)\n",
    "\n",
    "    print(\"Monitoring folder for changes...\")\n",
    "    observer.start()\n",
    "    \n",
    "    try:\n",
    "        while True:\n",
    "            time.sleep(1)  # Keep the script running\n",
    "    except KeyboardInterrupt:\n",
    "        observer.stop()\n",
    "    observer.join()\n"
   ]
  }
 ],
 "metadata": {
  "kernelspec": {
   "display_name": "Python 3",
   "language": "python",
   "name": "python3"
  },
  "language_info": {
   "codemirror_mode": {
    "name": "ipython",
    "version": 3
   },
   "file_extension": ".py",
   "mimetype": "text/x-python",
   "name": "python",
   "nbconvert_exporter": "python",
   "pygments_lexer": "ipython3",
   "version": "3.12.0"
  }
 },
 "nbformat": 4,
 "nbformat_minor": 2
}
