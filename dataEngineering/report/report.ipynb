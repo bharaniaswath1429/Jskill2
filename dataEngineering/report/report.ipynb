{
 "cells": [
  {
   "cell_type": "code",
   "execution_count": 1,
   "metadata": {},
   "outputs": [],
   "source": [
    "import pandas as pd"
   ]
  },
  {
   "cell_type": "code",
   "execution_count": 3,
   "metadata": {},
   "outputs": [
    {
     "name": "stdout",
     "output_type": "stream",
     "text": [
      "   employeeID    name  total_courses_taken  total_attempts  average_score  \\\n",
      "0           1  Aswath                    4               8      43.333333   \n",
      "\n",
      "   total_time_spent  \n",
      "0             100.0  \n"
     ]
    }
   ],
   "source": [
    "def create_user_training_summary():\n",
    "    df = pd.read_csv('../prep/PREP_TrainingPerformances.csv')\n",
    "\n",
    "    # Grouping by employeeID and calculating aggregated stats\n",
    "    user_summary = df.groupby(['employeeID', 'name']).agg(\n",
    "        total_courses_taken=('courseID', 'nunique'),\n",
    "        total_attempts=('attempt', 'sum'),\n",
    "        average_score=('score', 'mean'),\n",
    "        total_time_spent=('time', 'sum')\n",
    "    ).reset_index()\n",
    "\n",
    "    user_summary.to_csv('REPORT_User_Training_Summary.csv', index=False)\n",
    "    print(user_summary)\n",
    "create_user_training_summary()"
   ]
  },
  {
   "cell_type": "code",
   "execution_count": 4,
   "metadata": {},
   "outputs": [
    {
     "name": "stdout",
     "output_type": "stream",
     "text": [
      "   courseID        course  total_participants  average_score  \\\n",
      "0       117            QA                   1           40.0   \n",
      "1       119          Java                   1           70.0   \n",
      "2       127    Javascript                   1           20.0   \n",
      "3       135  Data Science                   1           30.0   \n",
      "\n",
      "   average_time_spent  total_attempts  \n",
      "0                10.0               1  \n",
      "1                30.0               3  \n",
      "2                 9.0               1  \n",
      "3                10.5               3  \n"
     ]
    }
   ],
   "source": [
    "def create_course_performance_report():\n",
    "    df = pd.read_csv('../prep/PREP_TrainingPerformances.csv')\n",
    "\n",
    "    # Grouping by courseID and course title\n",
    "    course_performance = df.groupby(['courseID', 'course']).agg(\n",
    "        total_participants=('employeeID', 'nunique'),\n",
    "        average_score=('score', 'mean'),\n",
    "        average_time_spent=('time', 'mean'),\n",
    "        total_attempts=('attempt', 'sum')\n",
    "    ).reset_index()\n",
    "\n",
    "    course_performance.to_csv('REPORT_Course_Performance.csv', index=False)\n",
    "    print(course_performance)\n",
    "\n",
    "create_course_performance_report()"
   ]
  },
  {
   "cell_type": "code",
   "execution_count": 5,
   "metadata": {},
   "outputs": [
    {
     "name": "stdout",
     "output_type": "stream",
     "text": [
      "  managerId  total_employees  average_feedback_score\n",
      "0    JMD364                4                    40.0\n"
     ]
    }
   ],
   "source": [
    "def create_manager_feedback_summary():\n",
    "    df = pd.read_csv('../prep/PREP_Feedbacks.csv')\n",
    "\n",
    "    # Grouping by managerId\n",
    "    feedback_summary = df.groupby(['managerId']).agg(\n",
    "        total_employees=('employeeID', 'nunique'),\n",
    "        average_feedback_score=('aggregatedScore', 'mean')\n",
    "    ).reset_index()\n",
    "\n",
    "    feedback_summary.to_csv('REPORT_Manager_Feedback_Summary.csv', index=False)\n",
    "    print(feedback_summary)\n",
    "create_manager_feedback_summary()"
   ]
  },
  {
   "cell_type": "code",
   "execution_count": 7,
   "metadata": {},
   "outputs": [
    {
     "name": "stdout",
     "output_type": "stream",
     "text": [
      "   Unnamed: 0_x  id_x  employeeID_x  name_x  courseID        course  score  \\\n",
      "0             0     4             1  Aswath       119          Java   80.0   \n",
      "1             1     5             1  Aswath       135  Data Science   40.0   \n",
      "2             2     6             1  Aswath       119          Java   60.0   \n",
      "3             3     7             1  Aswath       117            QA   40.0   \n",
      "4             4     8             1  Aswath       135  Data Science   20.0   \n",
      "5             5     9             1  Aswath       127    Javascript   20.0   \n",
      "\n",
      "   time  attempt                         createdAt  \\\n",
      "0  31.0        1  2024-10-03 08:19:14.878000+00:00   \n",
      "1   5.0        1  2024-10-03 11:05:47.457000+00:00   \n",
      "2  29.0        2  2024-10-04 05:28:58.807000+00:00   \n",
      "3  10.0        1  2024-10-04 11:42:03.314000+00:00   \n",
      "4  16.0        2  2024-10-04 13:09:37.540000+00:00   \n",
      "5   9.0        1  2024-10-04 13:09:57.968000+00:00   \n",
      "\n",
      "                          updatedAt  Unnamed: 0_y  id_y  name_y  \\\n",
      "0  2024-10-03 08:19:14.878000+00:00             0     1  Aswath   \n",
      "1  2024-10-03 11:05:47.457000+00:00             0     1  Aswath   \n",
      "2  2024-10-04 05:28:58.807000+00:00             0     1  Aswath   \n",
      "3  2024-10-04 11:42:03.314000+00:00             0     1  Aswath   \n",
      "4  2024-10-04 13:09:37.540000+00:00             0     1  Aswath   \n",
      "5  2024-10-04 13:09:57.968000+00:00             0     1  Aswath   \n",
      "\n",
      "                        email  \\\n",
      "0  bharaniaswath.rm@gmail.com   \n",
      "1  bharaniaswath.rm@gmail.com   \n",
      "2  bharaniaswath.rm@gmail.com   \n",
      "3  bharaniaswath.rm@gmail.com   \n",
      "4  bharaniaswath.rm@gmail.com   \n",
      "5  bharaniaswath.rm@gmail.com   \n",
      "\n",
      "                                            password employeeID_y  \\\n",
      "0  $2a$10$fjRdqTuhVUi1XWGpqRrdq.chBg49WGLR7J4rIC0...       JMD363   \n",
      "1  $2a$10$fjRdqTuhVUi1XWGpqRrdq.chBg49WGLR7J4rIC0...       JMD363   \n",
      "2  $2a$10$fjRdqTuhVUi1XWGpqRrdq.chBg49WGLR7J4rIC0...       JMD363   \n",
      "3  $2a$10$fjRdqTuhVUi1XWGpqRrdq.chBg49WGLR7J4rIC0...       JMD363   \n",
      "4  $2a$10$fjRdqTuhVUi1XWGpqRrdq.chBg49WGLR7J4rIC0...       JMD363   \n",
      "5  $2a$10$fjRdqTuhVUi1XWGpqRrdq.chBg49WGLR7J4rIC0...       JMD363   \n",
      "\n",
      "         designation reportingManager  userType  \n",
      "0  Software Engineer           JMD364  employee  \n",
      "1  Software Engineer           JMD364  employee  \n",
      "2  Software Engineer           JMD364  employee  \n",
      "3  Software Engineer           JMD364  employee  \n",
      "4  Software Engineer           JMD364  employee  \n",
      "5  Software Engineer           JMD364  employee  \n",
      "         course        designation  total_participants  average_score\n",
      "0  Data Science  Software Engineer                   1           30.0\n",
      "1          Java  Software Engineer                   1           70.0\n",
      "2    Javascript  Software Engineer                   1           20.0\n",
      "3            QA  Software Engineer                   1           40.0\n"
     ]
    }
   ],
   "source": [
    "def create_course_participation_by_designation():\n",
    "    df = pd.read_csv('../prep/PREP_TrainingPerformances.csv')\n",
    "    users_df = pd.read_csv('../prep/PREP_Users.csv')\n",
    "\n",
    "    # Merge user data with training performance data using different column names\n",
    "    merged_df = pd.merge(df, users_df, left_on='employeeID', right_on='id')\n",
    "\n",
    "    print(merged_df)\n",
    "\n",
    "    # Grouping by course and designation\n",
    "    participation_by_designation = merged_df.groupby(['course', 'designation']).agg(\n",
    "        total_participants=('employeeID_x', 'nunique'),\n",
    "        average_score=('score', 'mean')\n",
    "    ).reset_index()\n",
    "\n",
    "    participation_by_designation.to_csv('REPORT_Course_Participation_by_Designation.csv', index=False)\n",
    "    print(participation_by_designation)\n",
    "create_course_participation_by_designation()\n"
   ]
  },
  {
   "cell_type": "code",
   "execution_count": 8,
   "metadata": {},
   "outputs": [
    {
     "name": "stdout",
     "output_type": "stream",
     "text": [
      "         course  total_time_spent  average_score\n",
      "0  Data Science              21.0           30.0\n",
      "1          Java              60.0           70.0\n",
      "2    Javascript               9.0           20.0\n",
      "3            QA              10.0           40.0\n"
     ]
    }
   ],
   "source": [
    "def create_training_efficiency_report():\n",
    "    df = pd.read_csv('../prep/PREP_TrainingPerformances.csv')\n",
    "\n",
    "    # Group by course and calculate average score and total time spent\n",
    "    training_efficiency = df.groupby('course').agg(\n",
    "        total_time_spent=('time', 'sum'),\n",
    "        average_score=('score', 'mean')\n",
    "    ).reset_index()\n",
    "\n",
    "    training_efficiency.to_csv('REPORT_Training_Efficiency.csv', index=False)\n",
    "    print(training_efficiency)\n",
    "create_training_efficiency_report()\n"
   ]
  },
  {
   "cell_type": "code",
   "execution_count": 14,
   "metadata": {},
   "outputs": [
    {
     "name": "stdout",
     "output_type": "stream",
     "text": [
      "   employeeID  courseID  total_attempts  final_score\n",
      "0           1       117               1         40.0\n",
      "1           1       119               3         80.0\n",
      "2           1       127               1         20.0\n",
      "3           1       135               3         40.0\n"
     ]
    }
   ],
   "source": [
    "def create_training_attempt_analysis():\n",
    "    df = pd.read_csv('../prep/PREP_TrainingPerformances.csv')\n",
    "\n",
    "    # Group by employee and course to analyze attempts\n",
    "    attempt_analysis = df.groupby(['employeeID', 'courseID']).agg(\n",
    "        total_attempts=('attempt', 'sum'),\n",
    "        final_score=('score', 'max')\n",
    "    ).reset_index()\n",
    "\n",
    "    attempt_analysis.to_csv('REPORT_Training_Attempt_Analysis.csv', index=False)\n",
    "    print(attempt_analysis)\n",
    "create_training_attempt_analysis()\n"
   ]
  },
  {
   "cell_type": "code",
   "execution_count": null,
   "metadata": {},
   "outputs": [],
   "source": []
  }
 ],
 "metadata": {
  "kernelspec": {
   "display_name": "base",
   "language": "python",
   "name": "python3"
  },
  "language_info": {
   "codemirror_mode": {
    "name": "ipython",
    "version": 3
   },
   "file_extension": ".py",
   "mimetype": "text/x-python",
   "name": "python",
   "nbconvert_exporter": "python",
   "pygments_lexer": "ipython3",
   "version": "3.12.4"
  }
 },
 "nbformat": 4,
 "nbformat_minor": 2
}
